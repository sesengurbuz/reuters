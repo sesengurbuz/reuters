{
  "nbformat": 4,
  "nbformat_minor": 0,
  "metadata": {
    "colab": {
      "name": "reuters.ipynb",
      "version": "0.3.2",
      "provenance": [],
      "collapsed_sections": []
    },
    "kernelspec": {
      "name": "python3",
      "display_name": "Python 3"
    }
  },
  "cells": [
    {
      "cell_type": "markdown",
      "metadata": {
        "id": "view-in-github",
        "colab_type": "text"
      },
      "source": [
        "[View in Colaboratory](https://colab.research.google.com/github/sesengurbuz/reuters/blob/master/reuters.ipynb)"
      ]
    },
    {
      "metadata": {
        "id": "HJJizetAmBNh",
        "colab_type": "code",
        "colab": {
          "base_uri": "https://localhost:8080/",
          "height": 68
        },
        "outputId": "28901d6b-394a-4f07-dfaf-810e6ea609a1"
      },
      "cell_type": "code",
      "source": [
        "from keras.datasets import reuters\n",
        "\n",
        "(train_data, train_labels), (test_data, test_labels) = reuters.load_data(num_words=10000)"
      ],
      "execution_count": 1,
      "outputs": [
        {
          "output_type": "stream",
          "text": [
            "Using TensorFlow backend.\n"
          ],
          "name": "stderr"
        },
        {
          "output_type": "stream",
          "text": [
            "Downloading data from https://s3.amazonaws.com/text-datasets/reuters.npz\n",
            "2113536/2110848 [==============================] - 0s 0us/step\n"
          ],
          "name": "stdout"
        }
      ]
    },
    {
      "metadata": {
        "id": "-fof_nSumRCN",
        "colab_type": "code",
        "colab": {
          "base_uri": "https://localhost:8080/",
          "height": 34
        },
        "outputId": "985f42a3-712a-476d-ac9e-ec492a5bef14"
      },
      "cell_type": "code",
      "source": [
        "len(train_data)\n"
      ],
      "execution_count": 2,
      "outputs": [
        {
          "output_type": "execute_result",
          "data": {
            "text/plain": [
              "8982"
            ]
          },
          "metadata": {
            "tags": []
          },
          "execution_count": 2
        }
      ]
    },
    {
      "metadata": {
        "id": "l40oPEPomXqd",
        "colab_type": "code",
        "colab": {
          "base_uri": "https://localhost:8080/",
          "height": 34
        },
        "outputId": "aaaf7670-1832-462b-d0b9-64590fe325d2"
      },
      "cell_type": "code",
      "source": [
        "len(test_data)\n"
      ],
      "execution_count": 3,
      "outputs": [
        {
          "output_type": "execute_result",
          "data": {
            "text/plain": [
              "2246"
            ]
          },
          "metadata": {
            "tags": []
          },
          "execution_count": 3
        }
      ]
    },
    {
      "metadata": {
        "id": "L8aFAC_omZt8",
        "colab_type": "code",
        "colab": {
          "base_uri": "https://localhost:8080/",
          "height": 544
        },
        "outputId": "004e81cd-a086-4a59-d0bc-a86cb373bc2b"
      },
      "cell_type": "code",
      "source": [
        "train_data[10]\n"
      ],
      "execution_count": 4,
      "outputs": [
        {
          "output_type": "execute_result",
          "data": {
            "text/plain": [
              "[1,\n",
              " 245,\n",
              " 273,\n",
              " 207,\n",
              " 156,\n",
              " 53,\n",
              " 74,\n",
              " 160,\n",
              " 26,\n",
              " 14,\n",
              " 46,\n",
              " 296,\n",
              " 26,\n",
              " 39,\n",
              " 74,\n",
              " 2979,\n",
              " 3554,\n",
              " 14,\n",
              " 46,\n",
              " 4689,\n",
              " 4329,\n",
              " 86,\n",
              " 61,\n",
              " 3499,\n",
              " 4795,\n",
              " 14,\n",
              " 61,\n",
              " 451,\n",
              " 4329,\n",
              " 17,\n",
              " 12]"
            ]
          },
          "metadata": {
            "tags": []
          },
          "execution_count": 4
        }
      ]
    },
    {
      "metadata": {
        "id": "VPyV8Zylmc6I",
        "colab_type": "code",
        "colab": {}
      },
      "cell_type": "code",
      "source": [
        "word_index = reuters.get_word_index()\n",
        "reverse_word_index = dict([(value, key) for (key, value) in word_index.items()])\n",
        "# Note that our indices were offset by 3\n",
        "# because 0, 1 and 2 are reserved indices for \"padding\", \"start of sequence\", and \"unknown\".\n",
        "decoded_newswire = ' '.join([reverse_word_index.get(i - 3, '?') for i in train_data[1]])"
      ],
      "execution_count": 0,
      "outputs": []
    },
    {
      "metadata": {
        "id": "3FjemkImmgQW",
        "colab_type": "code",
        "colab": {
          "base_uri": "https://localhost:8080/",
          "height": 54
        },
        "outputId": "f16bff4e-27a2-402f-83b3-6c217240c263"
      },
      "cell_type": "code",
      "source": [
        "decoded_newswire\n"
      ],
      "execution_count": 28,
      "outputs": [
        {
          "output_type": "execute_result",
          "data": {
            "text/plain": [
              "'? generale de banque sa lt ? br and lt heller overseas corp of chicago have each taken 50 pct stakes in ? company sa ? factors generale de banque said in a statement it gave no financial details of the transaction sa ? ? turnover in 1986 was 17 5 billion belgian francs reuter 3'"
            ]
          },
          "metadata": {
            "tags": []
          },
          "execution_count": 28
        }
      ]
    },
    {
      "metadata": {
        "id": "4IlrG36MmkfQ",
        "colab_type": "code",
        "colab": {
          "base_uri": "https://localhost:8080/",
          "height": 34
        },
        "outputId": "a1bdd771-cf73-424c-8414-603f1725b40b"
      },
      "cell_type": "code",
      "source": [
        "train_labels[1000]\n"
      ],
      "execution_count": 30,
      "outputs": [
        {
          "output_type": "execute_result",
          "data": {
            "text/plain": [
              "19"
            ]
          },
          "metadata": {
            "tags": []
          },
          "execution_count": 30
        }
      ]
    },
    {
      "metadata": {
        "id": "0GG3Lwo7mnTF",
        "colab_type": "code",
        "colab": {
          "base_uri": "https://localhost:8080/",
          "height": 71
        },
        "outputId": "69825478-711c-4408-cf8f-a16a33f9510c"
      },
      "cell_type": "code",
      "source": [
        "import numpy as np\n",
        "\n",
        "def vectorize_sequences(sequences, dimension=10000):\n",
        "    results = np.zeros((len(sequences), dimension))\n",
        "    \n",
        "    for i, sequence in enumerate(sequences):\n",
        "        results[i, sequence] = 1.\n",
        "    return results\n",
        "\n",
        "# Our vectorized training data\n",
        "x_train = vectorize_sequences(train_data)\n",
        "# Our vectorized test data\n",
        "x_test = vectorize_sequences(test_data)\n",
        "\n",
        "print (train_data[0])\n",
        "print (x_train[0])"
      ],
      "execution_count": 35,
      "outputs": [
        {
          "output_type": "stream",
          "text": [
            "[1, 2, 2, 8, 43, 10, 447, 5, 25, 207, 270, 5, 3095, 111, 16, 369, 186, 90, 67, 7, 89, 5, 19, 102, 6, 19, 124, 15, 90, 67, 84, 22, 482, 26, 7, 48, 4, 49, 8, 864, 39, 209, 154, 6, 151, 6, 83, 11, 15, 22, 155, 11, 15, 7, 48, 9, 4579, 1005, 504, 6, 258, 6, 272, 11, 15, 22, 134, 44, 11, 15, 16, 8, 197, 1245, 90, 67, 52, 29, 209, 30, 32, 132, 6, 109, 15, 17, 12]\n",
            "[0. 1. 1. ... 0. 0. 0.]\n"
          ],
          "name": "stdout"
        }
      ]
    },
    {
      "metadata": {
        "id": "jeY-4iZ0mql_",
        "colab_type": "code",
        "colab": {}
      },
      "cell_type": "code",
      "source": [
        "def to_one_hot(labels, dimension=46):\n",
        "    results = np.zeros((len(labels), dimension))\n",
        "    for i, label in enumerate(labels):\n",
        "        results[i, label] = 1.\n",
        "    return results\n",
        "\n",
        "# Our vectorized training labels\n",
        "one_hot_train_labels = to_one_hot(train_labels)\n",
        "# Our vectorized test labels\n",
        "one_hot_test_labels = to_one_hot(test_labels)"
      ],
      "execution_count": 0,
      "outputs": []
    },
    {
      "metadata": {
        "id": "p_3BiwbZmwON",
        "colab_type": "code",
        "colab": {}
      },
      "cell_type": "code",
      "source": [
        "from keras import models\n",
        "from keras import layers\n",
        "\n",
        "model = models.Sequential()\n",
        "model.add(layers.Dense(64, activation='relu', input_shape=(10000,)))\n",
        "model.add(layers.Dense(64, activation='relu'))\n",
        "model.add(layers.Dense(46, activation='softmax'))"
      ],
      "execution_count": 0,
      "outputs": []
    },
    {
      "metadata": {
        "id": "gepjvP_7mzrV",
        "colab_type": "code",
        "colab": {}
      },
      "cell_type": "code",
      "source": [
        "model.compile(optimizer='rmsprop',\n",
        "              loss='categorical_crossentropy',\n",
        "              metrics=['accuracy'])\n"
      ],
      "execution_count": 0,
      "outputs": []
    },
    {
      "metadata": {
        "id": "85rW99cUm2Wv",
        "colab_type": "code",
        "colab": {}
      },
      "cell_type": "code",
      "source": [
        "x_val = x_train[:1000]\n",
        "partial_x_train = x_train[1000:]\n",
        "\n",
        "y_val = one_hot_train_labels[:1000]\n",
        "partial_y_train = one_hot_train_labels[1000:]"
      ],
      "execution_count": 0,
      "outputs": []
    },
    {
      "metadata": {
        "id": "41MQF8A5m45K",
        "colab_type": "code",
        "colab": {
          "base_uri": "https://localhost:8080/",
          "height": 734
        },
        "outputId": "3ce14ac0-1c35-4397-ac2f-217fa69a6a0a"
      },
      "cell_type": "code",
      "source": [
        "history = model.fit(partial_x_train,\n",
        "                    partial_y_train,\n",
        "                    epochs=20,\n",
        "                    batch_size=512,\n",
        "                    validation_data=(x_val, y_val))"
      ],
      "execution_count": 14,
      "outputs": [
        {
          "output_type": "stream",
          "text": [
            "Train on 7982 samples, validate on 1000 samples\n",
            "Epoch 1/20\n",
            "7982/7982 [==============================] - 1s 156us/step - loss: 2.5311 - acc: 0.4957 - val_loss: 1.7197 - val_acc: 0.6110\n",
            "Epoch 2/20\n",
            "7982/7982 [==============================] - 1s 134us/step - loss: 1.4451 - acc: 0.6893 - val_loss: 1.3453 - val_acc: 0.7070\n",
            "Epoch 3/20\n",
            "7982/7982 [==============================] - 1s 152us/step - loss: 1.0955 - acc: 0.7651 - val_loss: 1.1704 - val_acc: 0.7430\n",
            "Epoch 4/20\n",
            "7982/7982 [==============================] - 1s 150us/step - loss: 0.8704 - acc: 0.8152 - val_loss: 1.0787 - val_acc: 0.7580\n",
            "Epoch 5/20\n",
            "7982/7982 [==============================] - 1s 150us/step - loss: 0.7045 - acc: 0.8479 - val_loss: 0.9856 - val_acc: 0.7810\n",
            "Epoch 6/20\n",
            "7982/7982 [==============================] - 1s 151us/step - loss: 0.5688 - acc: 0.8791 - val_loss: 0.9411 - val_acc: 0.8030\n",
            "Epoch 7/20\n",
            "7982/7982 [==============================] - 1s 150us/step - loss: 0.4617 - acc: 0.9032 - val_loss: 0.9092 - val_acc: 0.8000\n",
            "Epoch 8/20\n",
            "7982/7982 [==============================] - 1s 150us/step - loss: 0.3727 - acc: 0.9222 - val_loss: 0.9354 - val_acc: 0.7880\n",
            "Epoch 9/20\n",
            "6144/7982 [======================>.......] - ETA: 0s - loss: 0.3068 - acc: 0.9308"
          ],
          "name": "stdout"
        },
        {
          "output_type": "stream",
          "text": [
            "7982/7982 [==============================] - 1s 151us/step - loss: 0.3056 - acc: 0.9307 - val_loss: 0.8937 - val_acc: 0.8060\n",
            "Epoch 10/20\n",
            "7982/7982 [==============================] - 1s 153us/step - loss: 0.2558 - acc: 0.9411 - val_loss: 0.9073 - val_acc: 0.8090\n",
            "Epoch 11/20\n",
            "7982/7982 [==============================] - 1s 151us/step - loss: 0.2198 - acc: 0.9476 - val_loss: 0.9154 - val_acc: 0.8130\n",
            "Epoch 12/20\n",
            "7982/7982 [==============================] - 1s 155us/step - loss: 0.1882 - acc: 0.9500 - val_loss: 0.9060 - val_acc: 0.8140\n",
            "Epoch 13/20\n",
            "7982/7982 [==============================] - 1s 154us/step - loss: 0.1708 - acc: 0.9525 - val_loss: 0.9342 - val_acc: 0.8100\n",
            "Epoch 14/20\n",
            "7982/7982 [==============================] - 1s 153us/step - loss: 0.1540 - acc: 0.9550 - val_loss: 0.9692 - val_acc: 0.8050\n",
            "Epoch 15/20\n",
            "7982/7982 [==============================] - 1s 153us/step - loss: 0.1396 - acc: 0.9560 - val_loss: 0.9722 - val_acc: 0.8120\n",
            "Epoch 16/20\n",
            "7982/7982 [==============================] - 1s 153us/step - loss: 0.1315 - acc: 0.9555 - val_loss: 1.0252 - val_acc: 0.8050\n",
            "Epoch 17/20\n",
            "7982/7982 [==============================] - 1s 152us/step - loss: 0.1223 - acc: 0.9578 - val_loss: 1.0279 - val_acc: 0.7960\n",
            "Epoch 18/20\n",
            "1536/7982 [====>.........................] - ETA: 0s - loss: 0.1206 - acc: 0.9590"
          ],
          "name": "stdout"
        },
        {
          "output_type": "stream",
          "text": [
            "7982/7982 [==============================] - 1s 155us/step - loss: 0.1199 - acc: 0.9578 - val_loss: 1.0448 - val_acc: 0.8050\n",
            "Epoch 19/20\n",
            "7982/7982 [==============================] - 1s 155us/step - loss: 0.1140 - acc: 0.9594 - val_loss: 1.1018 - val_acc: 0.7970\n",
            "Epoch 20/20\n",
            "7982/7982 [==============================] - 1s 153us/step - loss: 0.1115 - acc: 0.9597 - val_loss: 1.0748 - val_acc: 0.8000\n"
          ],
          "name": "stdout"
        }
      ]
    },
    {
      "metadata": {
        "id": "nxRLTKMHm7Qb",
        "colab_type": "code",
        "colab": {
          "base_uri": "https://localhost:8080/",
          "height": 376
        },
        "outputId": "394b65a4-2545-4947-f0fd-2bf6dffa92e5"
      },
      "cell_type": "code",
      "source": [
        "import matplotlib.pyplot as plt\n",
        "\n",
        "loss = history.history['loss']\n",
        "val_loss = history.history['val_loss']\n",
        "\n",
        "epochs = range(1, len(loss) + 1)\n",
        "\n",
        "plt.plot(epochs, loss, 'bo', label='Training loss')\n",
        "plt.plot(epochs, val_loss, 'b', label='Validation loss')\n",
        "plt.title('Training and validation loss')\n",
        "plt.xlabel('Epochs')\n",
        "plt.ylabel('Loss')\n",
        "plt.legend()\n",
        "\n",
        "plt.show()"
      ],
      "execution_count": 15,
      "outputs": [
        {
          "output_type": "display_data",
          "data": {
            "image/png": "[encoded data removed]",
            "text/plain": [
              "<matplotlib.figure.Figure at 0x7f6540fc24e0>"
            ]
          },
          "metadata": {
            "tags": []
          }
        }
      ]
    },
    {
      "metadata": {
        "id": "yzQLfMyznDA6",
        "colab_type": "code",
        "colab": {
          "base_uri": "https://localhost:8080/",
          "height": 376
        },
        "outputId": "2b9f2b01-1fdb-4f1f-9265-b39e18a1506d"
      },
      "cell_type": "code",
      "source": [
        "plt.clf()   # clear figure\n",
        "\n",
        "acc = history.history['acc']\n",
        "val_acc = history.history['val_acc']\n",
        "\n",
        "plt.plot(epochs, acc, 'bo', label='Training acc')\n",
        "plt.plot(epochs, val_acc, 'b', label='Validation acc')\n",
        "plt.title('Training and validation accuracy')\n",
        "plt.xlabel('Epochs')\n",
        "plt.ylabel('Loss')\n",
        "plt.legend()\n",
        "\n",
        "plt.show()"
      ],
      "execution_count": 16,
      "outputs": [
        {
          "output_type": "display_data",
          "data": {
            "image/png": "[encoded data removed]",
            "text/plain": [
              "<matplotlib.figure.Figure at 0x7f6540cde710>"
            ]
          },
          "metadata": {
            "tags": []
          }
        }
      ]
    },
    {
      "metadata": {
        "id": "MPvJuS2-nHps",
        "colab_type": "code",
        "colab": {
          "base_uri": "https://localhost:8080/",
          "height": 343
        },
        "outputId": "ea284b1d-f24d-4808-c729-8471c2b40536"
      },
      "cell_type": "code",
      "source": [
        "model = models.Sequential()\n",
        "model.add(layers.Dense(64, activation='relu', input_shape=(10000,)))\n",
        "model.add(layers.Dense(64, activation='relu'))\n",
        "model.add(layers.Dense(46, activation='softmax'))\n",
        "\n",
        "model.compile(optimizer='rmsprop',\n",
        "              loss='categorical_crossentropy',\n",
        "              metrics=['accuracy'])\n",
        "model.fit(partial_x_train,\n",
        "          partial_y_train,\n",
        "          epochs=8,\n",
        "          batch_size=512,\n",
        "          validation_data=(x_val, y_val))\n",
        "results = model.evaluate(x_test, one_hot_test_labels)"
      ],
      "execution_count": 41,
      "outputs": [
        {
          "output_type": "stream",
          "text": [
            "Train on 7982 samples, validate on 1000 samples\n",
            "Epoch 1/8\n",
            "7982/7982 [==============================] - 1s 161us/step - loss: 2.6125 - acc: 0.5085 - val_loss: 1.7083 - val_acc: 0.6310\n",
            "Epoch 2/8\n",
            "7982/7982 [==============================] - 1s 145us/step - loss: 1.4248 - acc: 0.7016 - val_loss: 1.3091 - val_acc: 0.7130\n",
            "Epoch 3/8\n",
            "7982/7982 [==============================] - 1s 158us/step - loss: 1.0707 - acc: 0.7734 - val_loss: 1.1298 - val_acc: 0.7670\n",
            "Epoch 4/8\n",
            "7982/7982 [==============================] - 1s 155us/step - loss: 0.8396 - acc: 0.8265 - val_loss: 1.0302 - val_acc: 0.7850\n",
            "Epoch 5/8\n",
            "7982/7982 [==============================] - 1s 157us/step - loss: 0.6672 - acc: 0.8622 - val_loss: 0.9701 - val_acc: 0.7990\n",
            "Epoch 6/8\n",
            "7982/7982 [==============================] - 1s 158us/step - loss: 0.5294 - acc: 0.8913 - val_loss: 0.9234 - val_acc: 0.8130\n",
            "Epoch 7/8\n",
            "7982/7982 [==============================] - 1s 155us/step - loss: 0.4266 - acc: 0.9134 - val_loss: 0.9011 - val_acc: 0.8130\n",
            "Epoch 8/8\n",
            "7982/7982 [==============================] - 1s 155us/step - loss: 0.3445 - acc: 0.9303 - val_loss: 0.8956 - val_acc: 0.8200\n",
            "2246/2246 [==============================] - 0s 123us/step\n"
          ],
          "name": "stdout"
        }
      ]
    },
    {
      "metadata": {
        "id": "Ncc3SSCQnLP_",
        "colab_type": "code",
        "colab": {
          "base_uri": "https://localhost:8080/",
          "height": 34
        },
        "outputId": "b6ea0731-d55e-4cef-840c-89e36928dc9c"
      },
      "cell_type": "code",
      "source": [
        "results"
      ],
      "execution_count": 39,
      "outputs": [
        {
          "output_type": "execute_result",
          "data": {
            "text/plain": [
              "[0.9831632582714593, 0.7853962600178095]"
            ]
          },
          "metadata": {
            "tags": []
          },
          "execution_count": 39
        }
      ]
    },
    {
      "metadata": {
        "id": "8IrzGjnfnQ3_",
        "colab_type": "code",
        "colab": {
          "base_uri": "https://localhost:8080/",
          "height": 34
        },
        "outputId": "48666bc4-efad-4bd1-c70d-9658d0d7e741"
      },
      "cell_type": "code",
      "source": [
        "import copy\n",
        "\n",
        "test_labels_copy = copy.copy(test_labels)\n",
        "np.random.shuffle(test_labels_copy)\n",
        "float(np.sum(np.array(test_labels) == np.array(test_labels_copy))) / len(test_labels)"
      ],
      "execution_count": 19,
      "outputs": [
        {
          "output_type": "execute_result",
          "data": {
            "text/plain": [
              "0.19679430097951914"
            ]
          },
          "metadata": {
            "tags": []
          },
          "execution_count": 19
        }
      ]
    },
    {
      "metadata": {
        "id": "GQnhVFZ3nUNo",
        "colab_type": "code",
        "colab": {}
      },
      "cell_type": "code",
      "source": [
        "predictions = model.predict(x_test)\n"
      ],
      "execution_count": 0,
      "outputs": []
    },
    {
      "metadata": {
        "id": "jvipNkxbnWyK",
        "colab_type": "code",
        "colab": {
          "base_uri": "https://localhost:8080/",
          "height": 221
        },
        "outputId": "4ddb36b8-9372-4dee-d923-94d0dcc58a43"
      },
      "cell_type": "code",
      "source": [
        "predictions[0].shape\n",
        "predictions[0]"
      ],
      "execution_count": 42,
      "outputs": [
        {
          "output_type": "execute_result",
          "data": {
            "text/plain": [
              "array([3.4133558e-05, 8.5929838e-05, 6.9219968e-05, 7.2604752e-01,\n",
              "       2.5296250e-01, 1.9293239e-07, 1.4771236e-04, 6.9460672e-05,\n",
              "       8.2498705e-03, 1.2395031e-05, 5.6721241e-05, 3.1260927e-03,\n",
              "       3.7917078e-05, 1.7343380e-04, 6.0336934e-06, 3.1433432e-05,\n",
              "       8.8259415e-04, 4.5740217e-04, 4.8515093e-04, 1.0799773e-03,\n",
              "       1.7895248e-03, 6.5060006e-04, 7.8725880e-06, 3.2261282e-04,\n",
              "       1.3628360e-05, 1.9911665e-04, 9.6585281e-06, 3.3347878e-05,\n",
              "       1.6578511e-05, 1.8953171e-04, 6.4629200e-04, 5.8438448e-04,\n",
              "       1.9783738e-05, 3.7450463e-05, 9.2566057e-05, 3.9258681e-05,\n",
              "       7.3430332e-05, 7.8807047e-05, 1.2693915e-04, 3.9471485e-04,\n",
              "       6.3004765e-05, 4.9250555e-04, 2.5390023e-06, 7.4260272e-05,\n",
              "       1.0596342e-05, 1.5368043e-05], dtype=float32)"
            ]
          },
          "metadata": {
            "tags": []
          },
          "execution_count": 42
        }
      ]
    },
    {
      "metadata": {
        "id": "JgPGxnNtnY9Z",
        "colab_type": "code",
        "colab": {
          "base_uri": "https://localhost:8080/",
          "height": 34
        },
        "outputId": "570cc39f-3bb3-400d-f340-4cde90b2b044"
      },
      "cell_type": "code",
      "source": [
        "np.sum(predictions[0])\n"
      ],
      "execution_count": 22,
      "outputs": [
        {
          "output_type": "execute_result",
          "data": {
            "text/plain": [
              "1.0"
            ]
          },
          "metadata": {
            "tags": []
          },
          "execution_count": 22
        }
      ]
    },
    {
      "metadata": {
        "id": "wRy8_0nvna33",
        "colab_type": "code",
        "colab": {
          "base_uri": "https://localhost:8080/",
          "height": 34
        },
        "outputId": "e81b5fc4-ed9b-4cca-9e22-ba9f38478a48"
      },
      "cell_type": "code",
      "source": [
        "np.argmax(predictions[0])\n"
      ],
      "execution_count": 23,
      "outputs": [
        {
          "output_type": "execute_result",
          "data": {
            "text/plain": [
              "3"
            ]
          },
          "metadata": {
            "tags": []
          },
          "execution_count": 23
        }
      ]
    },
    {
      "metadata": {
        "id": "OEOu29hkncyY",
        "colab_type": "code",
        "colab": {}
      },
      "cell_type": "code",
      "source": [
        "y_train = np.array(train_labels)\n",
        "y_test = np.array(test_labels)"
      ],
      "execution_count": 0,
      "outputs": []
    },
    {
      "metadata": {
        "id": "qyWkARfnnffu",
        "colab_type": "code",
        "colab": {}
      },
      "cell_type": "code",
      "source": [
        "model.compile(optimizer='rmsprop', loss='sparse_categorical_crossentropy', metrics=['acc'])\n"
      ],
      "execution_count": 0,
      "outputs": []
    },
    {
      "metadata": {
        "id": "qC7bzTrWnhcg",
        "colab_type": "code",
        "colab": {
          "base_uri": "https://localhost:8080/",
          "height": 751
        },
        "outputId": "8e699a2c-0ac1-4372-abf1-c047dd0372d2"
      },
      "cell_type": "code",
      "source": [
        "model = models.Sequential()\n",
        "model.add(layers.Dense(64, activation='relu', input_shape=(10000,)))\n",
        "model.add(layers.Dense(4, activation='relu'))\n",
        "model.add(layers.Dense(46, activation='softmax'))\n",
        "\n",
        "model.compile(optimizer='rmsprop',\n",
        "              loss='categorical_crossentropy',\n",
        "              metrics=['accuracy'])\n",
        "model.fit(partial_x_train,\n",
        "          partial_y_train,\n",
        "          epochs=20,\n",
        "          batch_size=128,\n",
        "          validation_data=(x_val, y_val))"
      ],
      "execution_count": 26,
      "outputs": [
        {
          "output_type": "stream",
          "text": [
            "Train on 7982 samples, validate on 1000 samples\n",
            "Epoch 1/20\n",
            "7982/7982 [==============================] - 2s 219us/step - loss: 2.7077 - acc: 0.4406 - val_loss: 2.0160 - val_acc: 0.5930\n",
            "Epoch 2/20\n",
            "7982/7982 [==============================] - 2s 198us/step - loss: 1.7341 - acc: 0.6185 - val_loss: 1.6580 - val_acc: 0.6110\n",
            "Epoch 3/20\n",
            "7982/7982 [==============================] - 2s 197us/step - loss: 1.4676 - acc: 0.6363 - val_loss: 1.5682 - val_acc: 0.6080\n",
            "Epoch 4/20\n",
            "7982/7982 [==============================] - 2s 197us/step - loss: 1.3270 - acc: 0.6436 - val_loss: 1.4825 - val_acc: 0.6170\n",
            "Epoch 5/20\n",
            "7982/7982 [==============================] - 2s 195us/step - loss: 1.2176 - acc: 0.6505 - val_loss: 1.4538 - val_acc: 0.6210\n",
            "Epoch 6/20\n",
            "7982/7982 [==============================] - 2s 197us/step - loss: 1.1279 - acc: 0.6745 - val_loss: 1.4368 - val_acc: 0.6310\n",
            "Epoch 7/20\n",
            "7982/7982 [==============================] - 2s 197us/step - loss: 1.0537 - acc: 0.6941 - val_loss: 1.4498 - val_acc: 0.6350\n",
            "Epoch 8/20\n",
            "2048/7982 [======>.......................] - ETA: 1s - loss: 0.9595 - acc: 0.7134"
          ],
          "name": "stdout"
        },
        {
          "output_type": "stream",
          "text": [
            "7982/7982 [==============================] - 2s 199us/step - loss: 0.9935 - acc: 0.7043 - val_loss: 1.4396 - val_acc: 0.6500\n",
            "Epoch 9/20\n",
            "7982/7982 [==============================] - 2s 202us/step - loss: 0.9433 - acc: 0.7166 - val_loss: 1.4862 - val_acc: 0.6500\n",
            "Epoch 10/20\n",
            "7982/7982 [==============================] - 2s 201us/step - loss: 0.9002 - acc: 0.7430 - val_loss: 1.5159 - val_acc: 0.6540\n",
            "Epoch 11/20\n",
            "7982/7982 [==============================] - 2s 197us/step - loss: 0.8623 - acc: 0.7552 - val_loss: 1.5034 - val_acc: 0.6660\n",
            "Epoch 12/20\n",
            "7982/7982 [==============================] - 2s 198us/step - loss: 0.8279 - acc: 0.7626 - val_loss: 1.5234 - val_acc: 0.6720\n",
            "Epoch 13/20\n",
            "7982/7982 [==============================] - 2s 199us/step - loss: 0.7981 - acc: 0.7720 - val_loss: 1.5421 - val_acc: 0.6690\n",
            "Epoch 14/20\n",
            "7982/7982 [==============================] - 2s 200us/step - loss: 0.7717 - acc: 0.7819 - val_loss: 1.5896 - val_acc: 0.6680\n",
            "Epoch 15/20\n",
            "4480/7982 [===============>..............] - ETA: 0s - loss: 0.7255 - acc: 0.7933"
          ],
          "name": "stdout"
        },
        {
          "output_type": "stream",
          "text": [
            "7982/7982 [==============================] - 2s 196us/step - loss: 0.7464 - acc: 0.7917 - val_loss: 1.6377 - val_acc: 0.6680\n",
            "Epoch 16/20\n",
            "7982/7982 [==============================] - 2s 195us/step - loss: 0.7224 - acc: 0.7970 - val_loss: 1.7117 - val_acc: 0.6690\n",
            "Epoch 17/20\n",
            "7982/7982 [==============================] - 2s 203us/step - loss: 0.7047 - acc: 0.8051 - val_loss: 1.7349 - val_acc: 0.6660\n",
            "Epoch 18/20\n",
            "7982/7982 [==============================] - 2s 202us/step - loss: 0.6851 - acc: 0.8074 - val_loss: 1.7754 - val_acc: 0.6740\n",
            "Epoch 19/20\n",
            "7982/7982 [==============================] - 2s 198us/step - loss: 0.6678 - acc: 0.8096 - val_loss: 1.7990 - val_acc: 0.6800\n",
            "Epoch 20/20\n",
            "7982/7982 [==============================] - 2s 197us/step - loss: 0.6521 - acc: 0.8158 - val_loss: 1.8239 - val_acc: 0.6690\n"
          ],
          "name": "stdout"
        },
        {
          "output_type": "execute_result",
          "data": {
            "text/plain": [
              "<keras.callbacks.History at 0x7f6541831320>"
            ]
          },
          "metadata": {
            "tags": []
          },
          "execution_count": 26
        }
      ]
    },
    {
      "metadata": {
        "id": "Dx7qG9zinkct",
        "colab_type": "code",
        "colab": {}
      },
      "cell_type": "code",
      "source": [
        ""
      ],
      "execution_count": 0,
      "outputs": []
    }
  ]
}